{
 "cells": [
  {
   "cell_type": "code",
   "execution_count": 1,
   "id": "e984daaf",
   "metadata": {},
   "outputs": [],
   "source": [
    "import pandas as pd\n",
    "import numpy as np\n",
    "import pyarrow"
   ]
  },
  {
   "cell_type": "code",
   "execution_count": 2,
   "id": "8f58a404",
   "metadata": {},
   "outputs": [],
   "source": [
    "shit_data = pd.read_csv('troop_movements10m.csv')"
   ]
  },
  {
   "cell_type": "code",
   "execution_count": 3,
   "id": "51d2051c",
   "metadata": {},
   "outputs": [],
   "source": [
    "shit_data['unit_type'] = shit_data['unit_type'].replace(['invalid_unit'], 'unknown')"
   ]
  },
  {
   "cell_type": "code",
   "execution_count": 4,
   "id": "8ee81a16",
   "metadata": {},
   "outputs": [],
   "source": [
    "shit_data['location_x'] = shit_data['location_x'].fillna(method = 'ffill')"
   ]
  },
  {
   "cell_type": "code",
   "execution_count": 5,
   "id": "1a006366",
   "metadata": {},
   "outputs": [],
   "source": [
    "shit_data['location_y'] = shit_data['location_y'].fillna(method = 'ffill')"
   ]
  },
  {
   "cell_type": "code",
   "execution_count": 6,
   "id": "941245e3",
   "metadata": {},
   "outputs": [],
   "source": [
    "shit_data.to_parquet(\"clean_data.parquet.gzip\", compression='gzip', engine='pyarrow')"
   ]
  }
 ],
 "metadata": {
  "kernelspec": {
   "display_name": "Python 3 (ipykernel)",
   "language": "python",
   "name": "python3"
  },
  "language_info": {
   "codemirror_mode": {
    "name": "ipython",
    "version": 3
   },
   "file_extension": ".py",
   "mimetype": "text/x-python",
   "name": "python",
   "nbconvert_exporter": "python",
   "pygments_lexer": "ipython3",
   "version": "3.10.9"
  }
 },
 "nbformat": 4,
 "nbformat_minor": 5
}
